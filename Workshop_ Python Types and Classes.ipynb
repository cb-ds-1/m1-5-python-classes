{
 "cells": [
  {
   "cell_type": "markdown",
   "metadata": {
    "colab_type": "text",
    "id": "NRgJX0AHXweG"
   },
   "source": [
    "# Exercises\n",
    "\n",
    "##1. Warmup: Triangle class\n",
    "\n",
    "Create a class called `Triangle`. \n",
    "\n",
    "* The `__init__()` method should take self, angle1, angle2, and angle3 as arguments. Make sure to set these appropriately in the body of the __init__()method.\n",
    "\n",
    "* Create a **class variable** variable named number_of_sides and set it equal to 3.\n",
    "\n",
    "* Create a method named `check_angles` calculating True if the sum of a triangle's three angles is is equal 180, and False otherwise.\n",
    "\n",
    "* Create a variable named `my_triangle` and set it equal to a new instance of your `Triangle` class. Pass it three angles that sum to 180 (e.g. 90, 30, 60).\n",
    "Print out `my_triangle.number_of_sides` and print out `my_triangle.check_angles()`.\n",
    "\n",
    "# 1. Solution"
   ]
  },
  {
   "cell_type": "code",
   "execution_count": 13,
   "metadata": {},
   "outputs": [
    {
     "name": "stdout",
     "output_type": "stream",
     "text": [
      "3\n",
      "True\n"
     ]
    }
   ],
   "source": [
    "class Triangle:\n",
    "    \n",
    "    def __init__(self, angle1, angle2, angle3):\n",
    "        self.angle1 = angle1\n",
    "        self.angle2 = angle2\n",
    "        self.angle3 = angle3\n",
    "        self.number_of_sides = 3\n",
    "    \n",
    "    def check_angles(self):\n",
    "        return self.angle1+ self.angle2+self.angle3 == 180.0\n",
    "    \n",
    "#Test\n",
    "my_triangle = Triangle(90,30,60)\n",
    "print(my_triangle.number_of_sides)\n",
    "print(my_triangle.check_angles())\n",
    "    "
   ]
  },
  {
   "cell_type": "markdown",
   "metadata": {
    "colab_type": "text",
    "id": "VYTlzrmJguZS"
   },
   "source": [
    "## 2.Making Natural Numbers from sets\n",
    "One way to make the natural numbers from the cardinality operation ($|A|$ or `len(A)` in python). \n",
    "\n",
    "Define $A = \\{all\\ possible\\ sets\\}$ That is, $A$ is the set of all sets. \n",
    "\n",
    "Then, the set $\\mathbb{N} = \\{ x : |x| \\forall x \\in A\\}$. \n",
    "\n",
    "Take some time to parse out the math above. $\\mathbb{N}$ is the set of natural numbers. The upside down \"A\" symbol means \"for all\" -- this is another structure that translates to a python for loop:\n",
    "\n",
    "\n",
    "```natural_numbers = {len(x) for x in A}```\n",
    "\n",
    "**Exercise:** Make a `SetNumber` class subclassing python's `set` to generate the natural numbers. It should have:\n",
    "\n",
    "* Addition (`__add__`) and substraction (`__sub__`) defined on other python `sets` objects.\n",
    "\n",
    "* A method called `value(self)` which gets the current numeric value of the `SetNumber` (eg. the number of object in it's set)\n"
   ]
  },
  {
   "cell_type": "raw",
   "metadata": {},
   "source": [
    "Example:\n",
    "\n",
    "sn = SetNumber({1,2,3})\n",
    "sn.value() --> 3\n",
    "\n",
    "sn + {2,3,4} = a SetNumber with value 4\n",
    "sn + {1,2,3} = a SetNumber with value 3\n",
    "sn + {4,5,6} = a SetNumber with value 6\n",
    "\n",
    "sn - {4,5,6} = a SetNumber with value 3\n",
    "sn - {1,2,3} = a SetNumber with value 0"
   ]
  },
  {
   "cell_type": "code",
   "execution_count": 14,
   "metadata": {},
   "outputs": [
    {
     "name": "stdout",
     "output_type": "stream",
     "text": [
      "3\n",
      "a SetNumber with value 4\n",
      "a SetNumber with value 3\n",
      "a SetNumber with value 6\n",
      "a SetNumber with value 3\n",
      "a SetNumber with value 0\n"
     ]
    }
   ],
   "source": [
    "class SetNumber():\n",
    "    def __init__(self, set_):\n",
    "        self.set_ = set_\n",
    "        self.new_set = set_\n",
    "        \n",
    "    def __add__(self, x):\n",
    "        self.new_set = self.set_.union(x)\n",
    "        return f\"a SetNumber with value {len(self.new_set)}\"\n",
    "    \n",
    "    def __sub__(self,x):\n",
    "        self.new_set = self.set_.difference(x)\n",
    "        return f\"a SetNumber with value {len(self.new_set)}\"\n",
    "    \n",
    "    def value(self):\n",
    "        return len(self.new_set)\n",
    "\n",
    "sn = SetNumber({1,2,3})\n",
    "print(sn.value())\n",
    "tests = [sn + {2,3,4}, sn + {1,2,3}, sn + {4,5,6}, sn - {4,5,6},sn - {1,2,3}]\n",
    "\n",
    "for test in tests:\n",
    "     print(test)"
   ]
  },
  {
   "cell_type": "markdown",
   "metadata": {},
   "source": [
    "# 2d Point Class\n",
    "\n",
    "Write the definition of a Point class. Objects from this class should have a\n",
    "\n",
    "- a method show to display the coordinates of the point\n",
    "- a method move to change these coordinates.\n",
    "- a method dist that computes the distance between 2 points.\n",
    "\n",
    "### Note\n",
    "\n",
    "the **euclidean distance** between 2 points A(x0, y0) and B(x1, y1) can be computed by:\n",
    "  \n",
    "  $$ d(AB)=\\sqrt{(x_1−x_0)^2+(y_1−y_0)^2} $$\n",
    "\n",
    "The following python code provides an example of the expected behaviour of objects belonging to this class:\n",
    "\n",
    "```\n",
    ">>> p1 = Point(2, 3)\n",
    ">>> p2 = Point(3, 3)\n",
    ">>> p1.show()\n",
    "(2, 3)\n",
    ">>> p2.show()\n",
    "(3, 3)\n",
    ">>> p1.move(10, -10)\n",
    ">>> p1.show()\n",
    "(12, -7)\n",
    ">>> p2.show()\n",
    "(3, 3)\n",
    ">>> p1.dist(p2)\n",
    "1.0\n",
    "```\n"
   ]
  },
  {
   "cell_type": "code",
   "execution_count": 15,
   "metadata": {},
   "outputs": [
    {
     "name": "stdout",
     "output_type": "stream",
     "text": [
      "(2, 3)\n",
      "(2, 3)\n",
      "(12, -7)\n",
      "(3, 3)\n",
      "13.45\n"
     ]
    }
   ],
   "source": [
    "import numpy as np\n",
    "\n",
    "class Point():\n",
    "    def __init__(self, x, y):\n",
    "        self.x = x\n",
    "        self.y = y\n",
    "        \n",
    "    def show(self):\n",
    "            print(f\"({self.x}, {self.y})\")\n",
    "        \n",
    "    def move(self, x, y):\n",
    "        self.x = self.x+x\n",
    "        self.y = self.y+y\n",
    "    \n",
    "    def dist(self, pt):\n",
    "        x0 = self.x\n",
    "        y0 = self.y\n",
    "        x1 = pt.x\n",
    "        y1 = pt.y\n",
    "        \n",
    "        distance = np.sqrt((x1-x0)**2+(y1-y0)**2)\n",
    "        print(f\"{distance:.2f}\")\n",
    "        \n",
    "p1 = Point(2, 3)    \n",
    "p2 = Point(3, 3)\n",
    "p1.show()\n",
    "p1.show()\n",
    "p1.move(10, -10)\n",
    "p1.show()\n",
    "p2.show()\n",
    "p1.dist(p2)"
   ]
  },
  {
   "cell_type": "markdown",
   "metadata": {},
   "source": [
    "# Rational Number\n",
    "\n",
    "```\n",
    ">>> a = RationalNumber(1, 2)\n",
    ">>> b = RationalNumber(1, 3)\n",
    ">>> a + b\n",
    "5/6\n",
    ">>> a - b\n",
    "1/6\n",
    ">>> a * b\n",
    "1/6\n",
    ">>> a/b\n",
    "3/2\n",
    "```"
   ]
  },
  {
   "cell_type": "code",
   "execution_count": 16,
   "metadata": {},
   "outputs": [
    {
     "name": "stdout",
     "output_type": "stream",
     "text": [
      "5/6\n",
      "1/6\n",
      "1/6\n",
      "3/2\n"
     ]
    }
   ],
   "source": [
    "from fractions import Fraction\n",
    "\n",
    "class RationalNumber():\n",
    "    def __init__(self, int1, int2):\n",
    "        self.rational_num = int1/int2\n",
    "\n",
    "    def __add__(self, x):\n",
    "        return str(Fraction(self.rational_num + x.rational_num).limit_denominator())\n",
    "\n",
    "    def __sub__(self, x):\n",
    "        return  str(Fraction(self.rational_num - x.rational_num).limit_denominator())        \n",
    "    \n",
    "    def __mul__(self, x):\n",
    "        return str(Fraction(self.rational_num * x.rational_num).limit_denominator())\n",
    "    \n",
    "    def __truediv__(self, x):\n",
    "        return str(Fraction(self.rational_num /x.rational_num).limit_denominator())\n",
    "    \n",
    "#Test\n",
    "a = RationalNumber(1,2)\n",
    "b = RationalNumber(1,3)\n",
    "print(a+b)\n",
    "print(a-b)\n",
    "print(a*b)\n",
    "print(a/b)"
   ]
  },
  {
   "cell_type": "markdown",
   "metadata": {
    "colab": {},
    "colab_type": "code",
    "id": "CiHuObmJdo0h"
   },
   "source": [
    "# 4. Deck of Cards\n",
    "\n",
    "Create a deck of cards class.\n",
    "\n",
    "Internally, the deck of cards should use another class, a card class.\n",
    "\n",
    "Your requirements are:\n",
    "\n",
    "The Deck class should have a deal method to deal a single card from the deck\n",
    "After a card is dealt, it is removed from the deck.\n",
    "If no cards remain in the deck and we try to deal, it should raise an exception\n",
    "There should be a shuffle method which makes sure the deck of cards has all 52 cards and then rearranges them randomly.\n",
    "If there are fewer than 52 cards, an exception should be raised\n",
    "The Card class should have a suit (Hearts, Diamonds, Clubs, Spades) and a value (A,2,3,4,5,6,7,8,9,10,J,Q,K)\n"
   ]
  },
  {
   "cell_type": "raw",
   "metadata": {
    "colab": {},
    "colab_type": "code",
    "id": "P-WHQVoEdo5w"
   },
   "source": [
    ">>> c = Card(suit='Hearts', value='K')\n",
    ">>> c\n",
    "\"K of Hearts\"\n",
    ">>> d = Deck()\n",
    ">>> d\n",
    "\"Cards remaining in deck: 52\"\n",
    "\n",
    "Deck is not shuffled -- deals cards consecutively:\n",
    "\n",
    ">>> d.deal()\n",
    "\"K of Spades\"\n",
    ">>> d.deal()\n",
    "\"Q of Spades\"\n",
    ">>> d.deal()\n",
    "\"J of Spades\"\n",
    ">>> d\n",
    "\"Cards remaining in deck: 49\"\n",
    "\n",
    "We dealt 3 cards, 49 remain\n",
    "Can't shuffle deck that's not full:\n",
    "\n",
    ">>> d.shuffle()\n",
    "ValueError: Only full decks can be shuffled\n",
    "\n",
    "You can shuffle full decks \n",
    ">>> d = Deck()\n",
    ">>> d.shuffle()\n",
    "\n",
    "Now it deals random cards\n",
    "\n",
    ">>> d.deal()\n",
    "\"2 of Hearts\"\n"
   ]
  },
  {
   "cell_type": "code",
   "execution_count": 20,
   "metadata": {
    "colab": {},
    "colab_type": "code",
    "id": "5MKEXpc0XwFL"
   },
   "outputs": [],
   "source": [
    "class Deck():\n",
    "    def __init__(self):\n",
    "        self.values= ['A', '1', '2', '3', '4', '5', '6', '7', '8', '9', 'J', 'Q', 'K']\n",
    "        self.suits= ['Spades', 'Hearts', 'Diamonds', 'Clubs']\n",
    "        self.deck=[]\n",
    "        for suit in self.suits:\n",
    "            for value in self.values[::-1]:\n",
    "                self.deck.append(f\"{value} of {suit}\")\n",
    "        self.num_cards_remaining = len(self.deck)\n",
    "    \n",
    "    def __repr__(self):\n",
    "        return f\"Cards remaining in deck: {self.num_cards_remaining}\"\n",
    "    \n",
    "    def deal(self):\n",
    "        try:\n",
    "            card_str = self.deck.pop(0)\n",
    "            card_list = card_str.split(' of ')\n",
    "            v = card_list[0]\n",
    "            s = card_list[1]\n",
    "            crd = Card(s, v)\n",
    "            self.num_cards_remaining = len(self.deck)\n",
    "            return crd\n",
    "        except IndexError as err:\n",
    "            return(\"There are no cards remaining in the deck.\")\n",
    "       \n",
    "    def shuffle(self):\n",
    "        if self.num_cards_remaining <52:\n",
    "            raise ValueError('Only full decks can be shuffled')\n",
    "        else:\n",
    "            np.random.shuffle(self.deck)\n",
    "            \n",
    "class Card():\n",
    "    def __init__(self, suit, value):\n",
    "        self.suit = suit\n",
    "        self.value = value\n",
    "\n",
    "    def __repr__(self):\n",
    "        return f\"{self.value} of {self.suit}\"\n",
    "            "
   ]
  },
  {
   "cell_type": "code",
   "execution_count": 21,
   "metadata": {},
   "outputs": [
    {
     "name": "stdout",
     "output_type": "stream",
     "text": [
      "K of Hearts\n",
      "Cards remaining in deck: 52\n",
      "K of Spades\n",
      "Q of Spades\n",
      "J of Spades\n",
      "Cards remaining in deck: 49\n",
      "3 of Hearts\n"
     ]
    }
   ],
   "source": [
    "#Test\n",
    "c = Card(suit='Hearts', value='K')\n",
    "print(c)\n",
    "d = Deck()\n",
    "print(d)\n",
    "print(d.deal())\n",
    "print(d.deal())\n",
    "print(d.deal())\n",
    "print(d)\n",
    "#d.shuffle()\n",
    "d = Deck()\n",
    "d.shuffle()\n",
    "print(d.deal())"
   ]
  }
 ],
 "metadata": {
  "colab": {
   "collapsed_sections": [],
   "name": "Workshop: Python Types and Classes.ipynb",
   "provenance": []
  },
  "kernelspec": {
   "display_name": "Python 3",
   "language": "python",
   "name": "python3"
  },
  "language_info": {
   "codemirror_mode": {
    "name": "ipython",
    "version": 3
   },
   "file_extension": ".py",
   "mimetype": "text/x-python",
   "name": "python",
   "nbconvert_exporter": "python",
   "pygments_lexer": "ipython3",
   "version": "3.8.3"
  }
 },
 "nbformat": 4,
 "nbformat_minor": 1
}
