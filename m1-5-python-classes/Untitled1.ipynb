{
 "cells": [
  {
   "cell_type": "code",
   "execution_count": 2,
   "metadata": {},
   "outputs": [],
   "source": [
    "import random\n",
    "\n",
    "class Card():\n",
    "    def __init__(self, value, suit):\n",
    "        self.value = value\n",
    "        self.suit = suit\n",
    "\n",
    "    def show(self):\n",
    "            return print(f'{self.value} of {self.suit}')\n",
    "\n",
    "class Deck():\n",
    "    def __init__(self):\n",
    "        suits = (\"Hearts\",\"Diamonds\",\"Clubs\",\"Spades\")\n",
    "        values = (\"A\",\"2\",\"3\",\"4\",\"5\",\"6\",\"7\",\"8\",\"9\",\"10\",\"J\",\"Q\",\"K\")\n",
    "        self.deck = [ Card(values[_], suits[_]) \n",
    "                    for i in range(len(suits)) \n",
    "                    for j in range(len(values)) ]\n",
    "       \n",
    "    #def __repr__(self):\n",
    "    #     return \"Cards remaining in deck: \"+ str(len(self.deck))\n",
    "\n",
    "    def deal(self):\n",
    "        #exeption: no card left\n",
    "        try:\n",
    "            card = self.deck[0]\n",
    "        except Exception as e:\n",
    "            print(\"ValueError: No card left in the deck\", end=\" \")\n",
    "            print(str(e))\n",
    "\n",
    "        self.deck.remove(card)\n",
    "        return card.show()\n",
    "    \n",
    "    def shuffle(self):\n",
    "        # exeption: missing card(s)\n",
    "        try:\n",
    "            if len(self.deck) < 52:\n",
    "                raise ValueError\n",
    "        except ValueError as e:\n",
    "            print(\"ValueError: Only full decks can be shuffled\", end=\" \")\n",
    "            print(str(e))\n",
    "\n",
    "        random.shuffle(self.deck)\n",
    "        return self.deck\n",
    "\n",
    "    def show(self):\n",
    "        for card in self.deck:\n",
    "           card.show()"
   ]
  },
  {
   "cell_type": "code",
   "execution_count": null,
   "metadata": {},
   "outputs": [],
   "source": []
  }
 ],
 "metadata": {
  "kernelspec": {
   "display_name": "Python 3",
   "language": "python",
   "name": "python3"
  },
  "language_info": {
   "codemirror_mode": {
    "name": "ipython",
    "version": 3
   },
   "file_extension": ".py",
   "mimetype": "text/x-python",
   "name": "python",
   "nbconvert_exporter": "python",
   "pygments_lexer": "ipython3",
   "version": "3.8.3"
  }
 },
 "nbformat": 4,
 "nbformat_minor": 4
}
