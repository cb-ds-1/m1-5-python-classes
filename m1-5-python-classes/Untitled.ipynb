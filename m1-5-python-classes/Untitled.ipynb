{
 "cells": [
  {
   "cell_type": "code",
   "execution_count": 63,
   "metadata": {},
   "outputs": [],
   "source": [
    "from fractions import Fraction"
   ]
  },
  {
   "cell_type": "code",
   "execution_count": 68,
   "metadata": {},
   "outputs": [
    {
     "data": {
      "text/plain": [
       "Fraction(1, 4)"
      ]
     },
     "execution_count": 68,
     "metadata": {},
     "output_type": "execute_result"
    }
   ],
   "source": [
    "Fraction(0.25)"
   ]
  },
  {
   "cell_type": "code",
   "execution_count": 69,
   "metadata": {},
   "outputs": [
    {
     "data": {
      "text/plain": [
       "0.8333333333333333"
      ]
     },
     "execution_count": 69,
     "metadata": {},
     "output_type": "execute_result"
    }
   ],
   "source": [
    "3752999689475413/4503599627370496\n"
   ]
  },
  {
   "cell_type": "code",
   "execution_count": 264,
   "metadata": {},
   "outputs": [
    {
     "data": {
      "text/plain": [
       "<__main__.RationalNumber at 0x7febe014e7c0>"
      ]
     },
     "execution_count": 264,
     "metadata": {},
     "output_type": "execute_result"
    }
   ],
   "source": [
    "from fractions import Fraction\n",
    "\n",
    "class RationalNumber():\n",
    "    \"\"\"Creation of a class that represents a rational number.\"\"\"\n",
    "    \n",
    "    def __init__(self, num, den):\n",
    "        \"\"\"Initialize attributes for RationalNumber.\"\"\"\n",
    "        self.num = num\n",
    "        self.den = den\n",
    "        \n",
    "    #def __repr__(self):\n",
    "    #    \"\"\"Prints the rational number as a clear string formatted as a frac\"\"\"\n",
    "    #    return str(f\"{self.n1}/{self.n2}\")\n",
    "        \n",
    "    def __add__(a, b):\n",
    "        \"\"\"adds two rational numbers\"\"\"\n",
    "        num = a.num * b.den - a.num * a.den\n",
    "        den = a.den * b.den  \n",
    "        return str(num) + \"/\" + str(den)\n",
    "            \n",
    "            \n",
    "            \n",
    "    def __sub__(self, other):\n",
    "        \"\"\"Substracts two rational numbers\"\"\"\n",
    "        print(f\"{(self.num/self.den)} - {(other.num/other.den)}\")\n",
    "    \n",
    "    def __mul__(self, other):\n",
    "        \"\"\"Multiplies two rational numbers\"\"\"\n",
    "        print(Fraction((self.n1/self.n2) * (other.n1/other.n2)))\n",
    "    \n",
    "    def div(self, other):\n",
    "        \"\"\"Divides two rational numbers\"\"\"\n",
    "        print(Fraction((self.n1/self.n2) / (other.n1/other.n2)))\n",
    "        \n",
    "        \n",
    "        \n",
    "        \n",
    "    \n",
    "a = RationalNumber(1, 2)\n",
    "b = RationalNumber(1, 3)\n",
    "a\n"
   ]
  },
  {
   "cell_type": "code",
   "execution_count": 250,
   "metadata": {},
   "outputs": [
    {
     "data": {
      "text/plain": [
       "int"
      ]
     },
     "execution_count": 250,
     "metadata": {},
     "output_type": "execute_result"
    }
   ],
   "source": [
    "from fractions import Fraction\n",
    "\n",
    "class RationalNumber():\n",
    "    \"\"\"Creation of a class that represents a rational number.\"\"\"\n",
    "    __sub__ = 0\n",
    "    add = 0\n",
    "    \n",
    "    def __init__(self, n, d):\n",
    "        \"\"\"Initialize attributes for RationalNumber.\"\"\"\n",
    "        self.n = n\n",
    "        self.d = d\n",
    "        \n",
    "    def __repr__(self):\n",
    "        \"\"\"Prints the rational number as a clear string formatted as a frac\"\"\"\n",
    "        return str(f\"{self.n}/{self.d}\")\n",
    "    \n",
    "    def __add__(self, other):\n",
    "        \"\"\"adds two rational numbers\"\"\"\n",
    "        n = self.n * other.d + other.n *self.d\n",
    "        d = self.d * other.d\n",
    "        return (n)\n",
    "    \n",
    "    \n",
    "    \n",
    "    def __sub__(self, other):\n",
    "        \"\"\"Substracts two rational numbers\"\"\"\n",
    "        print(Fraction((self.n/self.d) - (other.n/other.d)).limit_denominator(max_denominator=100000))\n",
    "    \n",
    "    def __mul__(self, other):\n",
    "        \"\"\"Multiplies two rational numbers\"\"\"\n",
    "        print(Fraction((self.n/self.d) * (other.n/other.d)).limit_denominator(max_denominator=100000))\n",
    "    \n",
    "    def __truediv__(self, other):\n",
    "        #__truediv__ works for Python 3 and __floordiv__ is like //. __div__ is older versions\n",
    "        \"\"\"Divides two rational numbers\"\"\"\n",
    "        div = Fraction((self.n/self.d) / (other.n/other.d)).limit_denominator(max_denominator=100000)\n",
    "    \n",
    "\n",
    "        \n",
    "\n",
    "a = RationalNumber(1, 2)\n",
    "b = RationalNumber(1, 3)\n",
    "type(a+b)"
   ]
  },
  {
   "cell_type": "code",
   "execution_count": null,
   "metadata": {},
   "outputs": [],
   "source": []
  },
  {
   "cell_type": "code",
   "execution_count": 272,
   "metadata": {},
   "outputs": [
    {
     "name": "stdout",
     "output_type": "stream",
     "text": [
      "1\n",
      "5/6\n"
     ]
    }
   ],
   "source": [
    "from fractions import Fraction\n",
    "\n",
    "class RationalNumber:\n",
    "    \"\"\"Creation of a class that represents a rational number.\"\"\"\n",
    "    \n",
    "    def __init__(self, n, d):\n",
    "        \"\"\"Initialize attributes for RationalNumber.\"\"\"\n",
    "        self.n = n\n",
    "        self.d = d\n",
    "        \n",
    "    def __repr__(self):\n",
    "     #   \"\"\"Prints the rational number as a clear string formatted as a frac\"\"\"\n",
    "      #  return str(f\"{self.n}/{self.d}\")\n",
    "    \n",
    "    def __add__(self, other):\n",
    "        \"\"\"adds two rational numbers\"\"\"\n",
    "        print(other.n)\n",
    "        print(Fraction((self.n/self.d) + (other.n/other.d)).limit_denominator(max_denominator=100000))    \n",
    "    \n",
    "    def __sub__(self, other):\n",
    "        \"\"\"Substracts two rational numbers\"\"\"\n",
    "        print(Fraction((self.n/self.d) - (other.n/other.d)).limit_denominator(max_denominator=100000))\n",
    "    \n",
    "    def __mul__(self, other):\n",
    "        \"\"\"Multiplies two rational numbers\"\"\"\n",
    "        print(Fraction((self.n/self.d) * (other.n/other.d)).limit_denominator(max_denominator=100000))\n",
    "    \n",
    "    def __truediv__(self, other):\n",
    "        #__truediv__ works for Python 3 and __floordiv__ is like //. __div__ is older versions\n",
    "        \"\"\"Divides two rational numbers\"\"\"\n",
    "        print(Fraction((self.n/self.d) / (other.n/other.d)).limit_denominator(max_denominator=100000))\n",
    "\n",
    "a = RationalNumber(1, 2)\n",
    "b = RationalNumber(1, 3)\n",
    "a+b\n"
   ]
  },
  {
   "cell_type": "code",
   "execution_count": null,
   "metadata": {},
   "outputs": [],
   "source": []
  },
  {
   "cell_type": "code",
   "execution_count": null,
   "metadata": {},
   "outputs": [],
   "source": []
  },
  {
   "cell_type": "code",
   "execution_count": 448,
   "metadata": {},
   "outputs": [],
   "source": [
    "import random\n",
    "\n",
    "class Card:\n",
    "    \"\"\"Creation of a class that represent a deck of cards\"\"\"\n",
    "    \n",
    "    suit = ('Hearts', 'Diamonds', 'Clubs', 'Spades')\n",
    "    value = ('A', '1', '2', '3', '4', '5', '6', '7', '8', '9', '10', 'J', 'Q', 'K')    \n",
    "    \n",
    "    def __init__(self, suit, value):\n",
    "        self.suit = suit\n",
    "        self.value = value\n",
    "        \n",
    "    def __repr__(self):\n",
    "        \"\"\"prints the card\"\"\"\n",
    "        return f\"{self.value} of {self.suit}\"\n",
    "        \n",
    "\n",
    "class Deck:\n",
    "    \"\"\"Subclass that represents the suits and values of the deck (parent)\"\"\"\n",
    "    \n",
    "    def __init__(self):\n",
    "        \"\"\"\n",
    "        Initializing attributes of the parent class.\n",
    "        Then initialize attributes specific to the card.\n",
    "        \"\"\"\n",
    "        suits = ('Hearts', 'Diamonds', 'Clubs', 'Spades')\n",
    "        values = ('A', '2', '3', '4', '5', '6', '7', '8', '9', '10', 'J', 'Q', 'K')   \n",
    "        self.my_deck = []\n",
    "        for suit in suits:\n",
    "            for value in values:\n",
    "                card = Card(suit, value)\n",
    "                self.my_deck.append(card)\n",
    "        \n",
    "    def shuffle(self):\n",
    "        if len(self.my_deck) == 52:\n",
    "            random.shuffle(self.my_deck)\n",
    "        else:\n",
    "            print('A deck must have 52 cards!')\n",
    "           \n",
    "    def deal(self):\n",
    "        if len(self.my_deck) >= 1:\n",
    "            return self.my_deck.pop()\n",
    "        else:\n",
    "            print('No more cards left!')"
   ]
  },
  {
   "cell_type": "code",
   "execution_count": null,
   "metadata": {},
   "outputs": [],
   "source": []
  },
  {
   "cell_type": "code",
   "execution_count": 449,
   "metadata": {},
   "outputs": [],
   "source": [
    "p = Deck()"
   ]
  },
  {
   "cell_type": "code",
   "execution_count": 450,
   "metadata": {},
   "outputs": [],
   "source": [
    "p.shuffle()"
   ]
  },
  {
   "cell_type": "code",
   "execution_count": 499,
   "metadata": {},
   "outputs": [
    {
     "name": "stdout",
     "output_type": "stream",
     "text": [
      "A deck must have 52 cards!\n"
     ]
    }
   ],
   "source": [
    "p.shuffle()"
   ]
  },
  {
   "cell_type": "code",
   "execution_count": null,
   "metadata": {},
   "outputs": [],
   "source": []
  },
  {
   "cell_type": "code",
   "execution_count": null,
   "metadata": {},
   "outputs": [],
   "source": []
  }
 ],
 "metadata": {
  "kernelspec": {
   "display_name": "Python 3",
   "language": "python",
   "name": "python3"
  },
  "language_info": {
   "codemirror_mode": {
    "name": "ipython",
    "version": 3
   },
   "file_extension": ".py",
   "mimetype": "text/x-python",
   "name": "python",
   "nbconvert_exporter": "python",
   "pygments_lexer": "ipython3",
   "version": "3.8.3"
  }
 },
 "nbformat": 4,
 "nbformat_minor": 4
}
