{
 "cells": [
  {
   "cell_type": "markdown",
   "metadata": {
    "colab_type": "text",
    "id": "skwFxGVbGska"
   },
   "source": [
    "# Functions and Programming language types\n",
    "\n",
    "We quickly learn that working with the mathematical object of sets is very limited!\n",
    "\n",
    "To create interesting mathematical or programming behavior, we need to narrow things down. Functions are defined on the specific sets they work on.\n",
    "\n",
    "For instance the `+` function makes sense between the set of integers and the set of real numbers, but it doesn't make intuitive sense for a `Integer` with a `string` object."
   ]
  },
  {
   "cell_type": "code",
   "execution_count": null,
   "metadata": {
    "colab": {
     "base_uri": "https://localhost:8080/",
     "height": 34
    },
    "colab_type": "code",
    "executionInfo": {
     "elapsed": 746,
     "status": "ok",
     "timestamp": 1595366798899,
     "user": {
      "displayName": "Matthieu Ranger",
      "photoUrl": "",
      "userId": "05160963434497794589"
     },
     "user_tz": 240
    },
    "id": "uWVgT5U0RFk9",
    "outputId": "d5395bca-a950-4784-f4cf-35db1c3d255a"
   },
   "outputs": [
    {
     "data": {
      "text/plain": [
       "49.44"
      ]
     },
     "execution_count": 8,
     "metadata": {
      "tags": []
     },
     "output_type": "execute_result"
    }
   ],
   "source": [
    "5 + 44.44 # Adding numbers to numbers make sense"
   ]
  },
  {
   "cell_type": "code",
   "execution_count": null,
   "metadata": {
    "colab": {
     "base_uri": "https://localhost:8080/",
     "height": 182
    },
    "colab_type": "code",
    "executionInfo": {
     "elapsed": 561,
     "status": "error",
     "timestamp": 1595366784536,
     "user": {
      "displayName": "Matthieu Ranger",
      "photoUrl": "",
      "userId": "05160963434497794589"
     },
     "user_tz": 240
    },
    "id": "0s4xWb4JRL_f",
    "outputId": "4e28cc6a-dbec-4f06-f777-77232a764789"
   },
   "outputs": [
    {
     "ename": "TypeError",
     "evalue": "ignored",
     "output_type": "error",
     "traceback": [
      "\u001b[0;31m---------------------------------------------------------------------------\u001b[0m",
      "\u001b[0;31mTypeError\u001b[0m                                 Traceback (most recent call last)",
      "\u001b[0;32m<ipython-input-7-a0aa0742b7a1>\u001b[0m in \u001b[0;36m<module>\u001b[0;34m()\u001b[0m\n\u001b[1;32m      1\u001b[0m \u001b[0;31m# You can't add numbers to text about cats\u001b[0m\u001b[0;34m\u001b[0m\u001b[0;34m\u001b[0m\u001b[0;34m\u001b[0m\u001b[0m\n\u001b[0;32m----> 2\u001b[0;31m \u001b[0;36m5\u001b[0m \u001b[0;34m+\u001b[0m \u001b[0;34m\"Hello, I'm a cat\"\u001b[0m\u001b[0;34m\u001b[0m\u001b[0;34m\u001b[0m\u001b[0m\n\u001b[0m",
      "\u001b[0;31mTypeError\u001b[0m: unsupported operand type(s) for +: 'int' and 'str'"
     ]
    }
   ],
   "source": [
    "# You can't add numbers to text about dogs\n",
    "5 + \"Hello, I'm a dog\""
   ]
  },
  {
   "cell_type": "markdown",
   "metadata": {
    "colab_type": "text",
    "id": "nUg0EEQWRlIu"
   },
   "source": [
    "Converting between the two to compatible types will fix the error"
   ]
  },
  {
   "cell_type": "code",
   "execution_count": null,
   "metadata": {
    "colab": {
     "base_uri": "https://localhost:8080/",
     "height": 36
    },
    "colab_type": "code",
    "executionInfo": {
     "elapsed": 832,
     "status": "ok",
     "timestamp": 1595368138353,
     "user": {
      "displayName": "Matthieu Ranger",
      "photoUrl": "",
      "userId": "05160963434497794589"
     },
     "user_tz": 240
    },
    "id": "7axGBlLBRjhC",
    "outputId": "b10f705d-cc8e-4523-da94-a4a17b2bb838"
   },
   "outputs": [
    {
     "data": {
      "application/vnd.google.colaboratory.intrinsic": {
       "type": "string"
      },
      "text/plain": [
       "'75... is the number of cats in my house'"
      ]
     },
     "execution_count": 12,
     "metadata": {
      "tags": []
     },
     "output_type": "execute_result"
    }
   ],
   "source": [
    "str(75) + \"... is the number of cats in my house\""
   ]
  },
  {
   "cell_type": "markdown",
   "metadata": {
    "colab_type": "text",
    "id": "MbXkTGcLRAYr"
   },
   "source": [
    "\n",
    "All objects we use in python have a type! This is how python manages to ensure code works as expected"
   ]
  },
  {
   "cell_type": "code",
   "execution_count": null,
   "metadata": {
    "colab": {
     "base_uri": "https://localhost:8080/",
     "height": 69
    },
    "colab_type": "code",
    "executionInfo": {
     "elapsed": 598,
     "status": "ok",
     "timestamp": 1595368158998,
     "user": {
      "displayName": "Matthieu Ranger",
      "photoUrl": "",
      "userId": "05160963434497794589"
     },
     "user_tz": 240
    },
    "id": "tnfODNsiHMya",
    "outputId": "8d0920a8-488c-464c-9f93-c9fdb0a36dff"
   },
   "outputs": [
    {
     "name": "stdout",
     "output_type": "stream",
     "text": [
      "<class 'int'>\n",
      "<class 'str'>\n",
      "<class 'type'>\n"
     ]
    }
   ],
   "source": [
    "print(type(5))\n",
    "print(type(\"5\"))\n",
    "# Meta: The type object is itself a type\n",
    "print(type(type(5)))"
   ]
  },
  {
   "cell_type": "markdown",
   "metadata": {
    "colab_type": "text",
    "id": "Dlhs21OKdLbi"
   },
   "source": [
    "The mathematical way to think about a python type is that the type itself is the set we're working in, while the python object is going to be the member of that set.\n",
    "\n",
    "Note that variables in python are just **names**. They point to some value that actually exists. Here, `x` and `y` point to the same object:"
   ]
  },
  {
   "cell_type": "code",
   "execution_count": null,
   "metadata": {
    "colab": {
     "base_uri": "https://localhost:8080/",
     "height": 52
    },
    "colab_type": "code",
    "executionInfo": {
     "elapsed": 589,
     "status": "ok",
     "timestamp": 1595370624197,
     "user": {
      "displayName": "Matthieu Ranger",
      "photoUrl": "",
      "userId": "05160963434497794589"
     },
     "user_tz": 240
    },
    "id": "GGwrQXx7Q-YI",
    "outputId": "8d8287a5-8f6f-47dd-b34b-d868130855bc"
   },
   "outputs": [
    {
     "name": "stdout",
     "output_type": "stream",
     "text": [
      "10914624\n",
      "10914624\n"
     ]
    }
   ],
   "source": [
    "x = int(5)\n",
    "# the id function gets the object ID that a variable name is pointing to\n",
    "print(id(x))\n",
    "y = int(5)\n",
    "# since the number 5 is the same for everyone, x = y\n",
    "print(id(y))"
   ]
  },
  {
   "cell_type": "markdown",
   "metadata": {
    "colab_type": "text",
    "id": "wAwJpb5Qo5Lk"
   },
   "source": [
    "Classes generally have functions that are directly tied to the object. These are called `methods`:"
   ]
  },
  {
   "cell_type": "code",
   "execution_count": null,
   "metadata": {
    "colab": {
     "base_uri": "https://localhost:8080/",
     "height": 52
    },
    "colab_type": "code",
    "executionInfo": {
     "elapsed": 1068,
     "status": "ok",
     "timestamp": 1595373179200,
     "user": {
      "displayName": "Matthieu Ranger",
      "photoUrl": "",
      "userId": "05160963434497794589"
     },
     "user_tz": 240
    },
    "id": "3z2jfl7EQ-hF",
    "outputId": "6db831cf-8024-45ec-817e-512cdb7b40d7"
   },
   "outputs": [
    {
     "name": "stdout",
     "output_type": "stream",
     "text": [
      "AM I SHOUTING THIS TEXT?  Yes :)\n",
      "am i shouting this text?  No :(\n"
     ]
    }
   ],
   "source": [
    "impolite = \"Am I shouting this text?\"\n",
    "print(impolite.upper(), \" Yes :)\")\n",
    "print(impolite.lower(), \" No :(\")"
   ]
  },
  {
   "cell_type": "markdown",
   "metadata": {
    "colab_type": "text",
    "id": "1XJo4wKapA-I"
   },
   "source": [
    "Why would we use methods instead of \"free floating functions\"?\n",
    "\n",
    "The main reason is **stylistic**. In english, it's normal for to have `subject verb object` form (eg. \"I ate an apple\").\n",
    "\n",
    "So calling a method: `me.eat(apple)` is closer to this format than free-floating functions `eat(me, apple)` which go `verb subject object`.\n",
    "\n",
    "You can see this in math notation, too. `a + b` is easier to read than `+(a, b)`.\n",
    "\n",
    "Some programming languages (C for example) don't support methods. Some programming languages (like Lisp) force the `verb object subject` form to enable advanced features (like code-as-data metaprogramming).\n",
    "\n",
    "Another advantage is *method chaining*, which you've probably been doing in pandas if you're using pandas already:"
   ]
  },
  {
   "cell_type": "code",
   "execution_count": null,
   "metadata": {
    "colab": {
     "base_uri": "https://localhost:8080/",
     "height": 121
    },
    "colab_type": "code",
    "executionInfo": {
     "elapsed": 625,
     "status": "ok",
     "timestamp": 1595374554388,
     "user": {
      "displayName": "Matthieu Ranger",
      "photoUrl": "",
      "userId": "05160963434497794589"
     },
     "user_tz": 240
    },
    "id": "CYRrAZPErQlx",
    "outputId": "f6291702-68a7-482d-e9e6-a4e074b28daf"
   },
   "outputs": [
    {
     "data": {
      "text/plain": [
       "1      4\n",
       "2      9\n",
       "0     25\n",
       "4    100\n",
       "3    100\n",
       "dtype: int64"
      ]
     },
     "execution_count": 46,
     "metadata": {
      "tags": []
     },
     "output_type": "execute_result"
    }
   ],
   "source": [
    "import pandas as pd\n",
    "\n",
    "(pd.Series([5, 2, 3, 44, 15])\n",
    "   .sort_values()\n",
    "   .apply(lambda x : x**2)\n",
    "   .clip(0, 100)\n",
    ")"
   ]
  },
  {
   "cell_type": "markdown",
   "metadata": {
    "colab_type": "text",
    "id": "Q22EmvKfshhe"
   },
   "source": [
    "If we were doing this with functions we'd have to do it \"outside-in\":\n",
    "\n",
    "`clip(apply(sort_values(series)), lambda x : x**2))`\n",
    "\n",
    "Which is logically backwards."
   ]
  },
  {
   "cell_type": "markdown",
   "metadata": {
    "colab_type": "text",
    "id": "sJaPkL2KOzad"
   },
   "source": [
    "# Python Classes\n",
    "\n",
    "You may notice when printing the type that it outputs `<class 'type'>`.\n"
   ]
  },
  {
   "cell_type": "code",
   "execution_count": null,
   "metadata": {
    "colab": {
     "base_uri": "https://localhost:8080/",
     "height": 34
    },
    "colab_type": "code",
    "executionInfo": {
     "elapsed": 543,
     "status": "ok",
     "timestamp": 1595374607264,
     "user": {
      "displayName": "Matthieu Ranger",
      "photoUrl": "",
      "userId": "05160963434497794589"
     },
     "user_tz": 240
    },
    "id": "SZKLBSGKOam2",
    "outputId": "86d2c3a2-048d-492e-ed92-ebcaa80e0df1"
   },
   "outputs": [
    {
     "name": "stdout",
     "output_type": "stream",
     "text": [
      "<class 'list'>\n"
     ]
    }
   ],
   "source": [
    "print(type(x))"
   ]
  },
  {
   "cell_type": "markdown",
   "metadata": {
    "colab_type": "text",
    "id": "3-6Whoy2vn2K"
   },
   "source": [
    "A `class` is the actual type. On the other hand, the actual python object `x` is called an **instance**.\n",
    "\n",
    "So we can say \"5 is an instance of an integer\" in the same way a mathematician would say \"5 is an element of the set of integers\"."
   ]
  },
  {
   "cell_type": "code",
   "execution_count": 1,
   "metadata": {
    "colab": {
     "base_uri": "https://localhost:8080/",
     "height": 34
    },
    "colab_type": "code",
    "executionInfo": {
     "elapsed": 315,
     "status": "ok",
     "timestamp": 1595383582867,
     "user": {
      "displayName": "Matthieu Ranger",
      "photoUrl": "",
      "userId": "05160963434497794589"
     },
     "user_tz": 240
    },
    "id": "gZR_I0wbOaps",
    "outputId": "e6cf72a1-372e-46b4-dea9-332a6d4fd0c8"
   },
   "outputs": [
    {
     "data": {
      "text/plain": [
       "5"
      ]
     },
     "execution_count": 1,
     "metadata": {
      "tags": []
     },
     "output_type": "execute_result"
    }
   ],
   "source": [
    "x = int(5)\n",
    "x # This is an instance of int"
   ]
  },
  {
   "cell_type": "markdown",
   "metadata": {
    "colab_type": "text",
    "id": "pHyoaduE0WVJ"
   },
   "source": [
    "# Let's define our first class!\n",
    "\n",
    "The classic example for classes is to make a `BankAccount` class which accepts `withdraw` and `deposit`"
   ]
  },
  {
   "cell_type": "code",
   "execution_count": 2,
   "metadata": {
    "colab": {},
    "colab_type": "code",
    "executionInfo": {
     "elapsed": 337,
     "status": "ok",
     "timestamp": 1595383585068,
     "user": {
      "displayName": "Matthieu Ranger",
      "photoUrl": "",
      "userId": "05160963434497794589"
     },
     "user_tz": 240
    },
    "id": "KYiESs4F0Uw1"
   },
   "outputs": [],
   "source": [
    "class BankAccount():\n",
    "    def __init__(self, initial_deposit=0):\n",
    "        self.balance = initial_deposit\n",
    "\n",
    "    def deposit(self, x):\n",
    "        self.balance += x\n",
    "\n",
    "    def withdraw(self, x):\n",
    "        self.balance -= x"
   ]
  },
  {
   "cell_type": "markdown",
   "metadata": {
    "colab_type": "text",
    "id": "83NENsBJ09tS"
   },
   "source": [
    "Let's go through this:\n",
    "\n",
    "The `class` keyword declares that you're building a class\n",
    "\n",
    "The `deposit` and `withdraw` methods do what we'd expect, they add or remove money from the account.\n",
    "\n",
    "The keyword `self` refers to the object itself. There are a couple of rules around this keyword:\n",
    "\n",
    "- Methods on an instance of the class need to have `self` as the first argument. It's ignored once you call it, but necessary to differentiate methods from functions.\n",
    "\n",
    "- The data that the class holds should be intialized with `self.data = ...` in the `__init__` function.\n",
    "\n",
    "The `__init__` is a special function called the *constructor* to initialize an instance of the class. So when we call:"
   ]
  },
  {
   "cell_type": "code",
   "execution_count": 6,
   "metadata": {
    "colab": {
     "base_uri": "https://localhost:8080/",
     "height": 34
    },
    "colab_type": "code",
    "executionInfo": {
     "elapsed": 355,
     "status": "ok",
     "timestamp": 1595383661069,
     "user": {
      "displayName": "Matthieu Ranger",
      "photoUrl": "",
      "userId": "05160963434497794589"
     },
     "user_tz": 240
    },
    "id": "kWIV4Ltx0VDk",
    "outputId": "83d13590-9834-4d4c-fe2e-fc35f4f6072d"
   },
   "outputs": [
    {
     "name": "stdout",
     "output_type": "stream",
     "text": [
      "Remaining balance: $ 5\n"
     ]
    }
   ],
   "source": [
    "account = BankAccount(5)\n",
    "print(\"Remaining balance: $\", account.balance)"
   ]
  },
  {
   "cell_type": "markdown",
   "metadata": {
    "colab_type": "text",
    "id": "kUwTmp7ZRs0d"
   },
   "source": [
    "The instance `account` is initialized with the value in the constructor.\n",
    "\n",
    "There are a few other \"special\" class methods, they're all reserved by `__underscores__`. Here are a few other examples:\n",
    "\n",
    "- The `+` operation is implemented by `def __add__(self, other)`\n",
    "\n",
    "- The `-` operation is implemented by `def __sub__(self, other)`\n",
    "\n",
    "- The `<` operation is implemented by `def __lt__(self, other)`\n",
    "\n",
    "- The `>=` operation is implemented by `def __ge__(self, other)`\n",
    "\n",
    "For instance we can add a few to our `BankAccount` class:"
   ]
  },
  {
   "cell_type": "code",
   "execution_count": 4,
   "metadata": {
    "colab": {
     "base_uri": "https://localhost:8080/",
     "height": 34
    },
    "colab_type": "code",
    "executionInfo": {
     "elapsed": 699,
     "status": "ok",
     "timestamp": 1595384553297,
     "user": {
      "displayName": "Matthieu Ranger",
      "photoUrl": "",
      "userId": "05160963434497794589"
     },
     "user_tz": 240
    },
    "id": "T1rqRh17UOia",
    "outputId": "6cb669ef-dd23-4d74-9e91-625a8b0d4ecc"
   },
   "outputs": [
    {
     "data": {
      "text/plain": [
       "<__main__.BankAccount at 0x7f8fe4733790>"
      ]
     },
     "execution_count": 4,
     "metadata": {},
     "output_type": "execute_result"
    }
   ],
   "source": [
    "class BankAccount():\n",
    "    def __init__(self, initial_deposit):\n",
    "        self.balance = initial_deposit\n",
    "\n",
    "    def __add__(self, x):\n",
    "        return self.balance + x\n",
    "\n",
    "    def __sub__(self, x):\n",
    "        return self.balance - x\n",
    "\n",
    "\n",
    "account = BankAccount(5)\n",
    "account + 5\n",
    "account"
   ]
  },
  {
   "cell_type": "markdown",
   "metadata": {
    "colab_type": "text",
    "id": "nCOM7kDNSI8R"
   },
   "source": [
    "**Fun Fact:** Python classes are really just `Dict` objects under the hood. You can access it with the `__dict__` parameter:"
   ]
  },
  {
   "cell_type": "code",
   "execution_count": 20,
   "metadata": {
    "colab": {
     "base_uri": "https://localhost:8080/",
     "height": 34
    },
    "colab_type": "code",
    "executionInfo": {
     "elapsed": 331,
     "status": "ok",
     "timestamp": 1595383748318,
     "user": {
      "displayName": "Matthieu Ranger",
      "photoUrl": "",
      "userId": "05160963434497794589"
     },
     "user_tz": 240
    },
    "id": "avid2dXl0VH8",
    "outputId": "ac0502ad-fd23-40f3-ec75-a2d8583bc719"
   },
   "outputs": [
    {
     "data": {
      "text/plain": [
       "{'balance': 5}"
      ]
     },
     "execution_count": 20,
     "metadata": {},
     "output_type": "execute_result"
    }
   ],
   "source": [
    "account.__dict__"
   ]
  },
  {
   "cell_type": "markdown",
   "metadata": {
    "colab_type": "text",
    "id": "eGIm1dNWVJzU"
   },
   "source": [
    "# Subclasses\n",
    "\n",
    "Classes can \"inherit\" other classes' attributes data and methods.\n",
    "\n",
    "We do this by declaring which class we want to inherit from in the parenthesis after the class name when we're declaring our class:"
   ]
  },
  {
   "cell_type": "code",
   "execution_count": 9,
   "metadata": {
    "colab": {
     "base_uri": "https://localhost:8080/",
     "height": 34
    },
    "colab_type": "code",
    "executionInfo": {
     "elapsed": 770,
     "status": "ok",
     "timestamp": 1595384631291,
     "user": {
      "displayName": "Matthieu Ranger",
      "photoUrl": "",
      "userId": "05160963434497794589"
     },
     "user_tz": 240
    },
    "id": "EA2jASuSVKBa",
    "outputId": "37b9e7af-8f9a-4976-e6bb-331209301b14"
   },
   "outputs": [
    {
     "data": {
      "text/plain": [
       "50.0"
      ]
     },
     "execution_count": 9,
     "metadata": {
      "tags": []
     },
     "output_type": "execute_result"
    }
   ],
   "source": [
    "# We steal all the functionality from the float class\n",
    "class FloatAccount(float):\n",
    "    pass # Pass is a special keyword that means \"no code\"\n",
    "\n",
    "account = FloatAccount(5)\n",
    "account * 10"
   ]
  },
  {
   "cell_type": "markdown",
   "metadata": {
    "colab_type": "text",
    "id": "vCF_YyNa4tj8"
   },
   "source": [
    "The point of inheriting is to re-use code that fits together.\n",
    "\n",
    "For instance, if you were writing a video game with animals, you might write a class `Animal` that has the common behavior across animals (say eating and sleeping) then we could write classes for a `Dog` and a `Cat`, which would have behaviors specialized to them."
   ]
  },
  {
   "cell_type": "code",
   "execution_count": 3,
   "metadata": {
    "colab": {
     "base_uri": "https://localhost:8080/",
     "height": 52
    },
    "colab_type": "code",
    "executionInfo": {
     "elapsed": 359,
     "status": "ok",
     "timestamp": 1595428037540,
     "user": {
      "displayName": "Matthieu Ranger",
      "photoUrl": "",
      "userId": "05160963434497794589"
     },
     "user_tz": 240
    },
    "id": "fBhUERy-52j3",
    "outputId": "2be5d5e7-85c0-4549-b473-4870f51a52bf"
   },
   "outputs": [
    {
     "name": "stdout",
     "output_type": "stream",
     "text": [
      "woof woof\n",
      "brrr brrr\n"
     ]
    },
    {
     "data": {
      "text/plain": [
       "NoneType"
      ]
     },
     "execution_count": 3,
     "metadata": {},
     "output_type": "execute_result"
    }
   ],
   "source": [
    "class Animal():\n",
    "    def eat(self):\n",
    "        print(\"chomp chomp\")\n",
    "\n",
    "    \n",
    "    def sleep(self):\n",
    "        print(\"zzzz\")\n",
    "\n",
    "\n",
    "class Dog(Animal):\n",
    "    def bark(self):\n",
    "        print(\"woof woof\")\n",
    "    \n",
    "\n",
    "class Cat(Animal):\n",
    "    def purr(self):\n",
    "        print(\"brrr brrr\")\n",
    "\n",
    "    def act_condescending(self):\n",
    "        print(\"I'm a cat\")\n",
    "\n",
    "\n",
    "rex = Dog()\n",
    "rex.bark()\n",
    "\n",
    "ms_cuddlypaws = Cat()\n",
    "a = ms_cuddlypaws.purr()\n",
    "type(a)"
   ]
  },
  {
   "cell_type": "markdown",
   "metadata": {
    "colab_type": "text",
    "id": "iY7dHQ_m7CA8"
   },
   "source": [
    "This inheritance works as an \"is a\" relationship. \n",
    "\n",
    "For instance we can say that a `Dog` is an `Animal`. Of course we can't say the reverse (animals aren't necessarily dogs)"
   ]
  },
  {
   "cell_type": "code",
   "execution_count": 6,
   "metadata": {
    "colab": {
     "base_uri": "https://localhost:8080/",
     "height": 34
    },
    "colab_type": "code",
    "executionInfo": {
     "elapsed": 392,
     "status": "ok",
     "timestamp": 1595428406994,
     "user": {
      "displayName": "Matthieu Ranger",
      "photoUrl": "",
      "userId": "05160963434497794589"
     },
     "user_tz": 240
    },
    "id": "LV9d7qOt67QH",
    "outputId": "65f18e99-6582-4264-99e3-3c6879539fe6"
   },
   "outputs": [
    {
     "data": {
      "text/plain": [
       "True"
      ]
     },
     "execution_count": 6,
     "metadata": {},
     "output_type": "execute_result"
    }
   ],
   "source": [
    "# isinstance checks if an object is an instance of a class\n",
    "# since all Dogs are Animals, this is True\n",
    "isinstance(ms_cuddlypaws, Animal)"
   ]
  },
  {
   "cell_type": "markdown",
   "metadata": {
    "colab_type": "text",
    "id": "xCkzRPjFy392"
   },
   "source": [
    "Some classes are effectively subsets of each other. For instance we could define a superset hierarchy of mathematical numbers :\n",
    "\n",
    "$$ \\mathbb{R} \\supset \\mathbb{Q} \\supset \\mathbb{Z} \\supset \\mathbb{N}$$\n",
    "\n",
    "Which means natural numbers are a subset of all integers, which are themselves a subset of all possible fractions.\n",
    "\n",
    "($\\mathbb{Q}$ is for *Quotients*, the set of all possible fractions of two integers. $\\mathbb{Z}$ is the set of all integers. Let's all pretend $\\mathbb{I}$ was busy that day)\n",
    "\n",
    "This means we can always make a real number from a fraction, and we can always make a fraction from an integer, etc. But the *reverse isn't true*.\n",
    "\n",
    "Even though this hierarchy is mathematically true, python didn't implement it this way:"
   ]
  },
  {
   "cell_type": "code",
   "execution_count": 5,
   "metadata": {
    "colab": {
     "base_uri": "https://localhost:8080/",
     "height": 34
    },
    "colab_type": "code",
    "executionInfo": {
     "elapsed": 315,
     "status": "ok",
     "timestamp": 1595428528255,
     "user": {
      "displayName": "Matthieu Ranger",
      "photoUrl": "",
      "userId": "05160963434497794589"
     },
     "user_tz": 240
    },
    "id": "NJ8okF4ky3Bh",
    "outputId": "43b374e2-8642-4c02-e401-42e42f3578c4"
   },
   "outputs": [
    {
     "data": {
      "text/plain": [
       "False"
      ]
     },
     "execution_count": 5,
     "metadata": {
      "tags": []
     },
     "output_type": "execute_result"
    }
   ],
   "source": [
    "isinstance(5, float)"
   ]
  },
  {
   "cell_type": "markdown",
   "metadata": {
    "colab_type": "text",
    "id": "w9EwS13Q89a8"
   },
   "source": [
    "This is because when python was initially made, all fundamental numeric types in python were made *specialized* instead of in a hierarchy."
   ]
  },
  {
   "cell_type": "code",
   "execution_count": null,
   "metadata": {},
   "outputs": [],
   "source": []
  },
  {
   "cell_type": "code",
   "execution_count": 3,
   "metadata": {},
   "outputs": [
    {
     "data": {
      "text/plain": [
       "str"
      ]
     },
     "execution_count": 3,
     "metadata": {},
     "output_type": "execute_result"
    }
   ],
   "source": [
    "str(5) + \"cat\"\n",
    "type(str(5))"
   ]
  },
  {
   "cell_type": "code",
   "execution_count": 4,
   "metadata": {},
   "outputs": [
    {
     "data": {
      "text/plain": [
       "1      8\n",
       "2     27\n",
       "0    100\n",
       "3    100\n",
       "4    100\n",
       "dtype: int64"
      ]
     },
     "execution_count": 4,
     "metadata": {},
     "output_type": "execute_result"
    }
   ],
   "source": [
    "#Everything has a type in Python\n",
    "\n",
    "import pandas as pd\n",
    "(pd.Series([5, 2, 3, 44, 55]) #Returns another pd.series\n",
    "    .sort_values() #Returns another pd.series\n",
    "    .apply(lambda x: x**3) #returns another pd.series\n",
    "    .clip(0, 100)\n",
    ")"
   ]
  },
  {
   "cell_type": "code",
   "execution_count": 5,
   "metadata": {},
   "outputs": [
    {
     "data": {
      "text/plain": [
       "'am i shouting this?'"
      ]
     },
     "execution_count": 5,
     "metadata": {},
     "output_type": "execute_result"
    }
   ],
   "source": [
    "impolite = \"Am I shouting this?\"\n",
    "impolite.lower()"
   ]
  },
  {
   "cell_type": "code",
   "execution_count": 48,
   "metadata": {},
   "outputs": [],
   "source": [
    "#Python Classes\n",
    "#Classes--capitals are encouraged to distinguish class type. ie pandas Series or DataFrame\n",
    "class BankAccount():\n",
    "    \"\"\"\n",
    "    This is a bank account class\n",
    "    Supports withdrawals and deposits\n",
    "    \"\"\"\n",
    "    def __init__(self, initial_deposit=0):\n",
    "        self.balance = float(initial_deposit)\n",
    "        \"\"\"\n",
    "        Initializes the bank account to a certain value\n",
    "        \"\"\"\n",
    "    def __add__(self, deposit):\n",
    "        self.balance += deposit\n",
    "    \n",
    "    def __sub__(self, withdrawal):\n",
    "            if withdrawal <= self.balance:\n",
    "                self.balance -= withdrawal \n",
    "            else:\n",
    "                raise ValueError(\"You is broke\")\n",
    "                \n",
    "    def __repr__(self):\n",
    "        return str(self.balance)"
   ]
  },
  {
   "cell_type": "code",
   "execution_count": 53,
   "metadata": {},
   "outputs": [],
   "source": [
    "ba = BankAccount(5000)"
   ]
  },
  {
   "cell_type": "code",
   "execution_count": 54,
   "metadata": {},
   "outputs": [
    {
     "data": {
      "text/plain": [
       "5000.0"
      ]
     },
     "execution_count": 54,
     "metadata": {},
     "output_type": "execute_result"
    }
   ],
   "source": [
    "ba.balance"
   ]
  },
  {
   "cell_type": "code",
   "execution_count": 55,
   "metadata": {},
   "outputs": [],
   "source": [
    "ba + 345345"
   ]
  },
  {
   "cell_type": "code",
   "execution_count": 56,
   "metadata": {},
   "outputs": [
    {
     "data": {
      "text/plain": [
       "350345.0"
      ]
     },
     "execution_count": 56,
     "metadata": {},
     "output_type": "execute_result"
    }
   ],
   "source": [
    "ba"
   ]
  },
  {
   "cell_type": "code",
   "execution_count": 71,
   "metadata": {},
   "outputs": [],
   "source": [
    "#Subclasses\n",
    "class MyFloat(float): #just stores float into MyFloat\n",
    "    \n",
    "    def __add__(self, x):\n",
    "        return self * 2\n",
    "\n"
   ]
  },
  {
   "cell_type": "code",
   "execution_count": 72,
   "metadata": {},
   "outputs": [
    {
     "data": {
      "text/plain": [
       "111.1"
      ]
     },
     "execution_count": 72,
     "metadata": {},
     "output_type": "execute_result"
    }
   ],
   "source": [
    "f1 = MyFloat(55.55)\n",
    "f2 = MyFloat(10.10)\n",
    "f1 + f2 #now add has been definited as doubling the value\n",
    "\n"
   ]
  },
  {
   "cell_type": "code",
   "execution_count": 83,
   "metadata": {},
   "outputs": [],
   "source": [
    "class Animal():\n",
    "    def eat(self):\n",
    "        print(\"chomp chomp\")\n",
    "        \n",
    "    def sleep(self):\n",
    "        print(\"zzzzzz\")\n",
    "        \n",
    "class Dog(Animal):\n",
    "    def bark(self):\n",
    "        print(\"woof.\")\n",
    "        \n",
    "    def eat(self):\n",
    "        print(\"CHOMP!\") #This is overwriting\n",
    "        \n",
    "class Cat(Animal):\n",
    "    \n",
    "    def __init(Self, thing=0): #Try to get cat to do dog thing\n",
    "        pass\n",
    "    \n",
    "    def act_condescending(self):\n",
    "        print(\"I'm a cat\")"
   ]
  },
  {
   "cell_type": "code",
   "execution_count": 84,
   "metadata": {},
   "outputs": [
    {
     "name": "stdout",
     "output_type": "stream",
     "text": [
      "chomp chomp\n"
     ]
    }
   ],
   "source": [
    "milo = Cat()\n",
    "milo.eat()"
   ]
  },
  {
   "cell_type": "code",
   "execution_count": 85,
   "metadata": {},
   "outputs": [
    {
     "name": "stdout",
     "output_type": "stream",
     "text": [
      "CHOMP!\n",
      "woof.\n"
     ]
    }
   ],
   "source": [
    "d = Dog()\n",
    "d.eat()\n",
    "d.bark()"
   ]
  },
  {
   "cell_type": "code",
   "execution_count": 86,
   "metadata": {},
   "outputs": [
    {
     "ename": "TypeError",
     "evalue": "Cat() takes no arguments",
     "output_type": "error",
     "traceback": [
      "\u001b[0;31m---------------------------------------------------------------------------\u001b[0m",
      "\u001b[0;31mTypeError\u001b[0m                                 Traceback (most recent call last)",
      "\u001b[0;32m<ipython-input-86-f8991cc31684>\u001b[0m in \u001b[0;36m<module>\u001b[0;34m\u001b[0m\n\u001b[0;32m----> 1\u001b[0;31m \u001b[0mCat\u001b[0m\u001b[0;34m(\u001b[0m\u001b[0md\u001b[0m\u001b[0;34m)\u001b[0m\u001b[0;34m.\u001b[0m\u001b[0meat\u001b[0m\u001b[0;34m(\u001b[0m\u001b[0;34m)\u001b[0m\u001b[0;34m\u001b[0m\u001b[0;34m\u001b[0m\u001b[0m\n\u001b[0m",
      "\u001b[0;31mTypeError\u001b[0m: Cat() takes no arguments"
     ]
    }
   ],
   "source": [
    "Cat(d).eat()"
   ]
  },
  {
   "cell_type": "code",
   "execution_count": null,
   "metadata": {},
   "outputs": [],
   "source": []
  },
  {
   "cell_type": "code",
   "execution_count": null,
   "metadata": {},
   "outputs": [],
   "source": []
  },
  {
   "cell_type": "code",
   "execution_count": null,
   "metadata": {},
   "outputs": [],
   "source": []
  },
  {
   "cell_type": "code",
   "execution_count": null,
   "metadata": {},
   "outputs": [],
   "source": []
  },
  {
   "cell_type": "code",
   "execution_count": null,
   "metadata": {},
   "outputs": [],
   "source": []
  },
  {
   "cell_type": "code",
   "execution_count": null,
   "metadata": {},
   "outputs": [],
   "source": []
  },
  {
   "cell_type": "code",
   "execution_count": null,
   "metadata": {},
   "outputs": [],
   "source": []
  },
  {
   "cell_type": "code",
   "execution_count": null,
   "metadata": {},
   "outputs": [],
   "source": []
  },
  {
   "cell_type": "code",
   "execution_count": null,
   "metadata": {},
   "outputs": [],
   "source": []
  }
 ],
 "metadata": {
  "colab": {
   "collapsed_sections": [],
   "name": "Python Types and Classes.ipynb",
   "provenance": []
  },
  "kernelspec": {
   "display_name": "Python 3",
   "language": "python",
   "name": "python3"
  },
  "language_info": {
   "codemirror_mode": {
    "name": "ipython",
    "version": 3
   },
   "file_extension": ".py",
   "mimetype": "text/x-python",
   "name": "python",
   "nbconvert_exporter": "python",
   "pygments_lexer": "ipython3",
   "version": "3.8.3"
  }
 },
 "nbformat": 4,
 "nbformat_minor": 1
}
