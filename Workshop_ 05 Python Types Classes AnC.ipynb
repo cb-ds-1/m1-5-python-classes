{
 "cells": [
  {
   "cell_type": "code",
   "execution_count": null,
   "metadata": {},
   "outputs": [],
   "source": [
    "Anne Cloutier GitHub: Vetiver5"
   ]
  },
  {
   "cell_type": "markdown",
   "metadata": {
    "colab_type": "text",
    "id": "NRgJX0AHXweG"
   },
   "source": [
    "# Exercises\n",
    "\n",
    "## 1. Warmup: Triangle class\n",
    "\n",
    "Create a class called `Triangle`. \n",
    "\n",
    "* The `__init__()` method should take self, angle1, angle2, and angle3 as arguments. Make sure to set these appropriately in the body of the __init__()method.\n",
    "\n",
    "* Create a **class variable** variable named number_of_sides and set it equal to 3.\n",
    "\n",
    "* Create a method named `check_angles` calculating True if the sum of a triangle's three angles is is equal 180, and False otherwise.\n",
    "\n",
    "* Create a variable named `my_triangle` and set it equal to a new instance of your `Triangle` class. Pass it three angles that sum to 180 (e.g. 90, 30, 60).\n",
    "Print out `my_triangle.number_of_sides` and print out `my_triangle.check_angles()`.\n",
    "\n",
    "```python\n",
    "t1 = Triangle(60, 60, 60)\n",
    "t1.check_angles() --> True\n",
    "\n",
    "t2 = Triangle(70, 60, 60)\n",
    "t2.check_angles() --> False\n",
    "```"
   ]
  },
  {
   "cell_type": "code",
   "execution_count": 1,
   "metadata": {},
   "outputs": [],
   "source": [
    "class Triangle:\n",
    "    \n",
    "#define the self method\n",
    "    def __init__(self, angle1, angle2, angle3):\n",
    "#initialize the triangle attributes\n",
    "        self.angle1 = angle1\n",
    "        self.angle2 = angle2\n",
    "        self.angle3 = angle3\n",
    "    \n",
    "    #create a number of sides variable\n",
    "    number_of_sides = 3\n",
    "    \n",
    "    #Create a method named check_angles\n",
    "    def check_angles(self):\n",
    "        if self.angle1+self.angle2+self.angle3==180:\n",
    "            return True\n",
    "        else:\n",
    "            return False\n",
    "    \n",
    "#create a variable named my_triangle \n",
    "#and set it to a a new instance\n",
    "t1 = Triangle(90, 30, 60)\n",
    "t2 = Triangle(70, 60, 60)"
   ]
  },
  {
   "cell_type": "code",
   "execution_count": 2,
   "metadata": {},
   "outputs": [
    {
     "name": "stdout",
     "output_type": "stream",
     "text": [
      "True\n",
      "False\n"
     ]
    }
   ],
   "source": [
    "#print my_triangle.check_angles\n",
    "print (t1.check_angles())\n",
    "print (t2.check_angles())"
   ]
  },
  {
   "cell_type": "code",
   "execution_count": 3,
   "metadata": {},
   "outputs": [
    {
     "name": "stdout",
     "output_type": "stream",
     "text": [
      "3\n"
     ]
    }
   ],
   "source": [
    "#print my_triangle.number_of_sides\n",
    "print (t1.number_of_sides)"
   ]
  },
  {
   "cell_type": "markdown",
   "metadata": {
    "colab_type": "text",
    "id": "VYTlzrmJguZS"
   },
   "source": [
    "## 2.Making Natural Numbers from sets\n",
    "One way to make the natural numbers from the cardinality operation ($|A|$ or `len(A)` in python). \n",
    "\n",
    "Define $A = \\{all\\ possible\\ sets\\}$ That is, $A$ is the set of all sets. \n",
    "\n",
    "Then, the set $\\mathbb{N} = \\{ x : |x| \\forall x \\in A\\}$. \n",
    "\n",
    "Take some time to parse out the math above. $\\mathbb{N}$ is the set of natural numbers. The upside down \"A\" symbol means \"for all\" -- this is another structure that translates to a python for loop:\n",
    "\n",
    "\n",
    "```natural_numbers = {len(x) for x in A}```\n",
    "\n",
    "**Exercise:** Make a `SetNumber` class subclassing python's `set` to generate the natural numbers. It should have:\n",
    "\n",
    "* Addition (`__add__`) and substraction (`__sub__`) defined on other python `sets` objects.\n",
    "\n",
    "* A method called `value(self)` which gets the current numeric value of the `SetNumber` (eg. the number of object in it's set)\n",
    "\n",
    "Example:\n",
    "```python\n",
    "sn = SetNumber({1,2,3})\n",
    "sn.value() --> 3\n",
    "\n",
    "sn + {2,3,4} = a SetNumber with value 4\n",
    "sn + {1,2,3} = a SetNumber with value 3\n",
    "sn + {4,5,6} = a SetNumber with value 6\n",
    "\n",
    "sn - {4,5,6} = a SetNumber with value 3\n",
    "sn - {1,2,3} = a SetNumber with value 0\n",
    "```"
   ]
  },
  {
   "cell_type": "code",
   "execution_count": 4,
   "metadata": {},
   "outputs": [],
   "source": [
    "#Create a SetNumber class with a set subclass\n",
    "\n",
    "class SetNumber(set):\n",
    "    \n",
    "    def __init__(self, setA):\n",
    "        self.setA = set(setA)\n",
    "\n",
    "    #Include an addition method         \n",
    "    def __add__ (self, setB):\n",
    "        a = self.setA.union(setB)\n",
    "        return SetNumber(a)\n",
    "    \n",
    "    #And a substraction method\n",
    "    def __substract__ (self, setB):\n",
    "        a = self.setA.difference(setB)\n",
    "        return SetNumber(a)\n",
    "    \n",
    "    #Write a value method showing the current value of SetNumber\n",
    "    def value(self):\n",
    "        return len(self.setA)\n",
    "    "
   ]
  },
  {
   "cell_type": "code",
   "execution_count": 5,
   "metadata": {},
   "outputs": [
    {
     "data": {
      "text/plain": [
       "6"
      ]
     },
     "execution_count": 5,
     "metadata": {},
     "output_type": "execute_result"
    }
   ],
   "source": [
    "#test results\n",
    "sn = SetNumber({1,2,3})\n",
    "x = sn + {4,5,6}\n",
    "x.value()"
   ]
  },
  {
   "cell_type": "markdown",
   "metadata": {},
   "source": [
    "# 2d Point Class\n",
    "\n",
    "Write the definition of a Point class. Objects from this class should have a\n",
    "\n",
    "- a method `show()` to display the coordinates of the point\n",
    "- a method `move(x,y)` to shift these coordinates\n",
    "- a method `dist(point)` that computes the distance between 2 points.\n",
    "\n",
    "### Note\n",
    "\n",
    "the **euclidean distance** between 2 points A(x0, y0) and B(x1, y1) can be computed by:\n",
    "  \n",
    "  $$ d(AB)=\\sqrt{(x_1−x_0)^2+(y_1−y_0)^2} $$\n",
    "\n",
    "The following python code provides an example of the expected behaviour of objects belonging to this class:\n",
    "\n",
    "```\n",
    ">>> p1 = Point(2, 3)\n",
    ">>> p2 = Point(3, 3)\n",
    ">>> p1.show()\n",
    "(2, 3)\n",
    ">>> p2.show()\n",
    "(3, 3)\n",
    ">>> p1.move(10, -10)\n",
    ">>> p1.show()\n",
    "(12, -7)\n",
    ">>> p2.show()\n",
    "(3, 3)\n",
    ">>> p1.dist(p2)\n",
    "1.0\n",
    "```\n"
   ]
  },
  {
   "cell_type": "code",
   "execution_count": 6,
   "metadata": {},
   "outputs": [
    {
     "data": {
      "text/plain": [
       "'A point class is created to represent two-dimensional\\n(x and y) mathematical points'"
      ]
     },
     "execution_count": 6,
     "metadata": {},
     "output_type": "execute_result"
    }
   ],
   "source": [
    "#definition of a point class:\n",
    "\"\"\"A point class is created to represent two-dimensional\n",
    "(x and y) mathematical points\"\"\""
   ]
  },
  {
   "cell_type": "code",
   "execution_count": 17,
   "metadata": {},
   "outputs": [
    {
     "data": {
      "text/plain": [
       "(2, 3)"
      ]
     },
     "execution_count": 17,
     "metadata": {},
     "output_type": "execute_result"
    }
   ],
   "source": [
    "import math\n",
    "epsilon = 0.000001\n",
    "\n",
    "#create a class to illustrate expected behaviour\n",
    "class Point:\n",
    "    \n",
    "    def __init__(self,pt1,pt2):\n",
    "        self.pt1 = pt1\n",
    "        self.pt2 = pt2\n",
    "    \n",
    "    #print point value\n",
    "    def show(self):\n",
    "        return(self.pt1, self.pt2)\n",
    "    \n",
    "    #move point\n",
    "    def move(self, pt3, pt4):\n",
    "        self.pt1 = self.pt1+pt3\n",
    "        self.pt2 = self.pt2+pt4\n",
    "        return Point(self.pt1,self.pt2)\n",
    "        \n",
    "    #compute euclidean distance between two Point objects\n",
    "    def dist_to_point(self, other): \n",
    "        delta_pt1 = self.pt1 - other.pt1\n",
    "        delta_pt2 = self.pt2 - other.pt2\n",
    "        return (delta_pt1 ** 2 + delta_pt2 ** 2) ** 0.5\n",
    "    \n",
    "\n",
    "#test code    \n",
    "p1 = Point(2, 3)\n",
    "p1.show()"
   ]
  },
  {
   "cell_type": "code",
   "execution_count": 18,
   "metadata": {},
   "outputs": [
    {
     "data": {
      "text/plain": [
       "(12, -7)"
      ]
     },
     "execution_count": 18,
     "metadata": {},
     "output_type": "execute_result"
    }
   ],
   "source": [
    "p1.move(10, -10)\n",
    "p1.show()"
   ]
  },
  {
   "cell_type": "code",
   "execution_count": 19,
   "metadata": {},
   "outputs": [
    {
     "data": {
      "text/plain": [
       "(3, 3)"
      ]
     },
     "execution_count": 19,
     "metadata": {},
     "output_type": "execute_result"
    }
   ],
   "source": [
    "p2 = Point(3, 3)\n",
    "p2.show()"
   ]
  },
  {
   "cell_type": "code",
   "execution_count": 20,
   "metadata": {},
   "outputs": [
    {
     "data": {
      "text/plain": [
       "13.45362404707371"
      ]
     },
     "execution_count": 20,
     "metadata": {},
     "output_type": "execute_result"
    }
   ],
   "source": [
    "p1.dist_to_point(p2)"
   ]
  },
  {
   "cell_type": "markdown",
   "metadata": {},
   "source": [
    "# Rational Number\n",
    "\n",
    "Make a class that represents a [Rational Number](https://en.wikipedia.org/wiki/Rational_number). The rational number takes as input two integers and represents them as a number which is a fraction.\n",
    "\n",
    "You will need:\n",
    "\n",
    "- A creation rountine taking in two integers and initializing the Rational Number\n",
    "\n",
    "- A functionality where printing the rational number prints it as a clean string in the format `\"a / b\"`\n",
    "\n",
    "- An addition/substraction/multiplication/division method defined on other rational numbers\n",
    "\n",
    "    - These only need to be defined on other rational numbers!\n",
    "\n",
    "    - The result needs to be another `RationalNumber` object\n",
    "\n",
    "```\n",
    ">>> a = RationalNumber(1, 2)\n",
    ">>> b = RationalNumber(1, 3)\n",
    ">>> a\n",
    "1 / 2\n",
    ">>> a + b\n",
    "5/6\n",
    ">>> a - b\n",
    "1/6\n",
    ">>> a * b\n",
    "1/6\n",
    ">>> a/b\n",
    "3/2\n",
    "```"
   ]
  },
  {
   "cell_type": "code",
   "execution_count": 59,
   "metadata": {},
   "outputs": [],
   "source": [
    "from fractions import Fraction\n",
    "\n",
    "#Make a class that represents a Rational Number\n",
    "class RationalNumber():    \n",
    "    #creation routine taking 2 integers and representing them as a fraction\n",
    "    def __init__self(self, numerator, denominator):\n",
    "        self.numerator = numerator\n",
    "        self.denominator = denominator\n",
    "        print(f\"{self.numerator} / {self.denominator}\")\n",
    "\n",
    "    #Method 2 : Add 2 Rationals\n",
    "    def __add__ (self, value_RationalNumber):\n",
    "            # find the least common multiple\n",
    "            the_lcm = lcm(self.denominator, value_Rational.denominator)\n",
    "            # multiply each numerator by the lcm, then add\n",
    "            numerator_sum = the_lcm*self.numerator/self.denominator + \\\n",
    "                        the_lcm*value_Rational.numerator/value_Rational.denominator\n",
    "            return Rational(int(numerator_sum), the_lcm)\n",
    "                      \n",
    "    #Method 3: Substract 2 rationals\n",
    "    def __sub__(self, value_Rational):\n",
    "        # find the lcm\n",
    "        the_lcm = lcm(self.denominator, value_Rational.denominator)\n",
    "        # multiply each numerator by the lcm, then add\n",
    "        numerator_sum = the_lcm*self.numerator/self.denominator - \\\n",
    "                    the_lcm*value_Rational.numerator/value_Rational.denominator\n",
    "        return Rational(int(numerator_sum), the_lcm)\n",
    "       \n",
    "    #Method 4: Multiply 2 rationals\n",
    "    def __mult__(self, value_Rational):\n",
    "          # multiply  numerator\n",
    "            numerator_mul = self.numerator * value_Rational.numerator\n",
    "            # multiply denominator\n",
    "            denominator_mul = self.denominator * value_Rational.denominator\n",
    "            return Rational(int(numerator_mul),int(denominator_mul))\n",
    "            \n",
    "    #Method 5: Divide 2 rationals\n",
    "    def __div__(self, value_Rational):\n",
    "         if type(value_Rational) == Rational:\n",
    "            # multiply  numerator\n",
    "            numerator_mul = self.numerator * value_Rational.denominator\n",
    "            # multiply denominator\n",
    "            denominator_mul = self.denominator * value_Rational.numerator\n",
    "            return Rational(int( numerator_mul), int(denominator_mul))"
   ]
  },
  {
   "cell_type": "code",
   "execution_count": 75,
   "metadata": {},
   "outputs": [
    {
     "name": "stdout",
     "output_type": "stream",
     "text": [
      "1/2\n",
      "1/3\n"
     ]
    }
   ],
   "source": [
    "\"\"\"Simply using fraction to quickly produce result\"\"\"\n",
    "\n",
    "from fractions import Fraction\n",
    "\n",
    "print(Fraction(1,2))\n",
    "print(Fraction(1,3))"
   ]
  },
  {
   "cell_type": "code",
   "execution_count": 76,
   "metadata": {},
   "outputs": [
    {
     "name": "stdout",
     "output_type": "stream",
     "text": [
      "3/2\n",
      "1/6\n",
      "1/6\n",
      "0.7937005259840998\n"
     ]
    }
   ],
   "source": [
    "print (Fraction(1,2) / Fraction(1,3)) \n",
    " \n",
    "print (Fraction(1,2) * Fraction(1,3)) \n",
    "    \n",
    "print (Fraction(1,2) * Fraction(1,3)) \n",
    "   \n",
    "print (Fraction(1,2) ** Fraction(1,3)) \n"
   ]
  },
  {
   "cell_type": "markdown",
   "metadata": {
    "colab": {},
    "colab_type": "code",
    "id": "CiHuObmJdo0h"
   },
   "source": [
    "# 4. Deck of Cards\n",
    "\n",
    "Create a deck of cards class. \n",
    "\n",
    "Internally, the deck of cards should use another class, a card class. \n",
    "\n",
    "Your requirements are:\n",
    "\n",
    "- The Deck class should have a deal method to deal a single card from the deck\n",
    "- After a card is dealt, it is removed from the deck.\n",
    "    - If no cards remain in the deck and we try to deal, it should raise an exception\n",
    "- There should be a shuffle method which makes sure the deck of cards has all 52 cards and then rearranges them randomly.\n",
    "    - If there are fewer than 52 cards, an exception should be raised\n",
    "- The Card class should have a suit (Hearts, Diamonds, Clubs, Spades) and a value (A,2,3,4,5,6,7,8,9,10,J,Q,K)\n",
    "\n",
    "```\n",
    ">>> c = Card(suit='Hearts', value='K')\n",
    ">>> c\n",
    "\"K of Hearts\"\n",
    ">>> d = Deck()\n",
    ">>> d\n",
    "\"Cards remaining in deck: 52\"\n",
    "\n",
    "# Deck is not shuffled -- deals cards consecutively:\n",
    "\n",
    ">>> d.deal()\n",
    "\"K of Spades\"\n",
    ">>> d.deal()\n",
    "\"Q of Spades\"\n",
    ">>> d.deal()\n",
    "\"J of Spades\"\n",
    ">>> d\n",
    "\"Cards remaining in deck: 49\"\n",
    "\n",
    "# We dealt 3 cards, 49 remain\n",
    "# Can't shuffle deck that's not full:\n",
    "\n",
    ">>> d.shuffle()\n",
    "ValueError: Only full decks can be shuffled\n",
    "\n",
    "# You can shuffle full decks \n",
    ">>> d = Deck()\n",
    ">>> d.shuffle()\n",
    "\n",
    "# Now it deals random cards\n",
    "\n",
    ">>> d.deal()\n",
    "\"2 of Hearts\"\n",
    "\n",
    "```"
   ]
  },
  {
   "cell_type": "code",
   "execution_count": 50,
   "metadata": {},
   "outputs": [],
   "source": [
    "import random\n",
    "import math\n",
    "import collections\n",
    "\n",
    "\n",
    "#Create a card class\n",
    "\n",
    "class Card:\n",
    "    def __init__(self, suit, value):\n",
    "        self.suit = suit\n",
    "        self.value = value\n",
    "        \n",
    "    def show(self):\n",
    "        print(\"{} of {}\".format(self.value, self.suit))\n",
    "\n",
    "#Create a deck class\n",
    "class Deck:\n",
    "    def __init__(self):\n",
    "        self.cards = []\n",
    "        self.build()\n",
    "        \n",
    "    def build(self):\n",
    "        for s in [\"Hearts\", \"Diamonds\", \"Clubs\", \"Spades\"]:\n",
    "            for v in ('Ace',2,3,4,5,6,7,8,9,10,'Jack','Queen','King'):\n",
    "                self.cards.append(Card(s,v))\n",
    "\n",
    "#Shuffle the full deck and check it worked\n",
    "#For this, create a loop of 51-1 to \"shuffle\", as well as\n",
    "#a random number to the left of the current position to <swap> cards  \n",
    "                \n",
    "    def show(self):\n",
    "        for c in self.cards:\n",
    "            c.show()\n",
    "            \n",
    "    def shuffle(self):\n",
    "        for i in range(len(self.cards) - 1, 0, -1):\n",
    "            r = random.randint(0, i)\n",
    "            self.cards[i], self.cards[r] = self.cards[r], self.cards[i]\n",
    "            \n",
    "#Deal a card from the bottom of the deck with pop  \n",
    "    def dealCard(self):\n",
    "        return self.cards.pop()\n",
    "    \n",
    "#Remove dealt cards from deck\n",
    "    def remove(self,card):\n",
    "        if card in self.cards:\n",
    "            self.cards.remove(card)\n",
    "            return True\n",
    "        else:\n",
    "            return False\n",
    "        \n",
    "#What happens if the deck becomes empty?\n",
    "#Return an exception (True) if the deck contains\n",
    "#no cards\n",
    "\n",
    "    def is_empty(self):\n",
    "        return (len(self.cards) == 0)\n"
   ]
  },
  {
   "cell_type": "code",
   "execution_count": 51,
   "metadata": {},
   "outputs": [
    {
     "name": "stdout",
     "output_type": "stream",
     "text": [
      "7 of Spades\n"
     ]
    }
   ],
   "source": [
    "#Check Card and Deck classes; value and suit parameters;\n",
    "#show, shuffle and deal functions work\n",
    "deck = Deck()\n",
    "deck.shuffle()\n",
    "card = deck.dealCard()\n",
    "card.show()"
   ]
  },
  {
   "cell_type": "code",
   "execution_count": 52,
   "metadata": {},
   "outputs": [
    {
     "data": {
      "text/plain": [
       "False"
      ]
     },
     "execution_count": 52,
     "metadata": {},
     "output_type": "execute_result"
    }
   ],
   "source": [
    "#validate that card exception in case of empty deck works\n",
    "deck.is_empty()"
   ]
  }
 ],
 "metadata": {
  "colab": {
   "collapsed_sections": [],
   "name": "Workshop: Python Types and Classes.ipynb",
   "provenance": []
  },
  "kernelspec": {
   "display_name": "Python 3",
   "language": "python",
   "name": "python3"
  },
  "language_info": {
   "codemirror_mode": {
    "name": "ipython",
    "version": 3
   },
   "file_extension": ".py",
   "mimetype": "text/x-python",
   "name": "python",
   "nbconvert_exporter": "python",
   "pygments_lexer": "ipython3",
   "version": "3.8.3"
  }
 },
 "nbformat": 4,
 "nbformat_minor": 1
}
